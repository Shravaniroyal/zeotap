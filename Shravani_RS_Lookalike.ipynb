{
  "nbformat": 4,
  "nbformat_minor": 0,
  "metadata": {
    "colab": {
      "provenance": []
    },
    "kernelspec": {
      "name": "python3",
      "display_name": "Python 3"
    },
    "language_info": {
      "name": "python"
    }
  },
  "cells": [
    {
      "cell_type": "markdown",
      "source": [
        "##Merge Data"
      ],
      "metadata": {
        "id": "Af1z-3pra1zf"
      }
    },
    {
      "cell_type": "code",
      "execution_count": 1,
      "metadata": {
        "id": "IPIOZVPOC9QM"
      },
      "outputs": [],
      "source": [
        "import pandas as pd\n",
        "\n",
        "customers = pd.read_csv('Customers.csv')\n",
        "products = pd.read_csv('Products.csv')\n",
        "transactions = pd.read_csv('Transactions.csv')\n",
        "\n",
        "data = pd.merge(transactions, customers, on=\"CustomerID\", how=\"inner\")\n",
        "data = pd.merge(data, products, on=\"ProductID\", how=\"inner\")\n"
      ]
    },
    {
      "cell_type": "code",
      "source": [
        "merged_data = transactions.merge(customers, on='CustomerID').merge(products, on='ProductID')\n",
        "\n",
        "print(merged_data.head())\n"
      ],
      "metadata": {
        "colab": {
          "base_uri": "https://localhost:8080/"
        },
        "id": "DnMk3m-VDBmr",
        "outputId": "c0dc63b3-d6e7-4763-a610-d0f90fd42cba"
      },
      "execution_count": null,
      "outputs": [
        {
          "output_type": "stream",
          "name": "stdout",
          "text": [
            "  TransactionID CustomerID ProductID      TransactionDate  Quantity  \\\n",
            "0        T00001      C0199      P067  2024-08-25 12:38:23         1   \n",
            "1        T00112      C0146      P067  2024-05-27 22:23:54         1   \n",
            "2        T00166      C0127      P067  2024-04-25 07:38:55         1   \n",
            "3        T00272      C0087      P067  2024-03-26 22:55:37         2   \n",
            "4        T00363      C0070      P067  2024-03-21 15:10:10         3   \n",
            "\n",
            "   TotalValue  Price_x     CustomerName         Region  SignupDate  \\\n",
            "0      300.68   300.68   Andrea Jenkins         Europe  2022-12-03   \n",
            "1      300.68   300.68  Brittany Harvey           Asia  2024-09-04   \n",
            "2      300.68   300.68  Kathryn Stevens         Europe  2024-04-04   \n",
            "3      601.36   300.68  Travis Campbell  South America  2024-04-11   \n",
            "4      902.04   300.68    Timothy Perez         Europe  2022-03-15   \n",
            "\n",
            "                       ProductName     Category  Price_y  \n",
            "0  ComfortLiving Bluetooth Speaker  Electronics   300.68  \n",
            "1  ComfortLiving Bluetooth Speaker  Electronics   300.68  \n",
            "2  ComfortLiving Bluetooth Speaker  Electronics   300.68  \n",
            "3  ComfortLiving Bluetooth Speaker  Electronics   300.68  \n",
            "4  ComfortLiving Bluetooth Speaker  Electronics   300.68  \n"
          ]
        }
      ]
    },
    {
      "cell_type": "markdown",
      "source": [
        "##Extract Features"
      ],
      "metadata": {
        "id": "1sS5Of8pa8nN"
      }
    },
    {
      "cell_type": "markdown",
      "source": [
        "#Customer-specific Features:"
      ],
      "metadata": {
        "id": "A7siF4PFa939"
      }
    },
    {
      "cell_type": "code",
      "source": [
        "customer_features = merged_data.groupby('CustomerID').agg({\n",
        "    'TotalValue': 'sum',\n",
        "    'TransactionID': 'count',\n",
        "    'Category': lambda x: x.mode()[0]\n",
        "}).rename(columns={'TransactionID': 'TransactionCount'})\n",
        "print(customer_features.head())\n"
      ],
      "metadata": {
        "colab": {
          "base_uri": "https://localhost:8080/"
        },
        "id": "Ub3wUrrMDPmO",
        "outputId": "5577bfdf-0810-4692-f2b5-e483d58fb1fa"
      },
      "execution_count": null,
      "outputs": [
        {
          "output_type": "stream",
          "name": "stdout",
          "text": [
            "            TotalValue  TransactionCount     Category\n",
            "CustomerID                                           \n",
            "C0001          3354.52                 5  Electronics\n",
            "C0002          1862.74                 4     Clothing\n",
            "C0003          2725.38                 4   Home Decor\n",
            "C0004          5354.88                 8        Books\n",
            "C0005          2034.24                 3  Electronics\n"
          ]
        }
      ]
    },
    {
      "cell_type": "markdown",
      "source": [
        "#Standardize Features:"
      ],
      "metadata": {
        "id": "T-aKS1XVbBb2"
      }
    },
    {
      "cell_type": "code",
      "source": [
        "from sklearn.preprocessing import LabelEncoder\n",
        "from sklearn.metrics.pairwise import cosine_similarity\n",
        "\n",
        "encoder = LabelEncoder()\n",
        "\n",
        "customer_features_encoded = customer_features.apply(encoder.fit_transform)\n",
        "\n",
        "similarity_matrix = cosine_similarity(customer_features_encoded)\n",
        "print(similarity_matrix)\n"
      ],
      "metadata": {
        "colab": {
          "base_uri": "https://localhost:8080/"
        },
        "id": "eVfYA3cpDT1w",
        "outputId": "2d0483e3-36aa-46c4-8b17-18c4c89d8b60"
      },
      "execution_count": null,
      "outputs": [
        {
          "output_type": "stream",
          "name": "stdout",
          "text": [
            "[[1.         0.99866244 0.99977038 ... 0.99805038 0.9990105  0.99987543]\n",
            " [0.99866244 1.         0.99879147 ... 0.99898592 0.99969566 0.9978878 ]\n",
            " [0.99977038 0.99879147 1.         ... 0.99902487 0.999482   0.99936529]\n",
            " ...\n",
            " [0.99805038 0.99898592 0.99902487 ... 1.         0.99972001 0.99695079]\n",
            " [0.9990105  0.99969566 0.999482   ... 0.99972001 1.         0.99819215]\n",
            " [0.99987543 0.9978878  0.99936529 ... 0.99695079 0.99819215 1.        ]]\n"
          ]
        }
      ]
    },
    {
      "cell_type": "markdown",
      "source": [
        "#Compute Similarity"
      ],
      "metadata": {
        "id": "8Xap6j3xbOcx"
      }
    },
    {
      "cell_type": "code",
      "source": [
        "import numpy as np\n",
        "\n",
        "customer_ids = customer_features.index\n",
        "\n",
        "recommendations = {}\n",
        "\n",
        "for idx, customer_id in enumerate(customer_ids[:20]):\n",
        "\n",
        "    scores = similarity_matrix[idx]\n",
        "\n",
        "    similar_indices = np.argsort(-scores)[1:4]\n",
        "\n",
        "    recommendations[customer_id] = [(customer_ids[i], scores[i]) for i in similar_indices]\n",
        "\n",
        "print(recommendations)\n",
        "\n"
      ],
      "metadata": {
        "colab": {
          "base_uri": "https://localhost:8080/"
        },
        "id": "DaYx7ZvWDeVQ",
        "outputId": "b431d518-656f-45b2-b376-825456ed46c7"
      },
      "execution_count": null,
      "outputs": [
        {
          "output_type": "stream",
          "name": "stdout",
          "text": [
            "{'C0001': [('C0012', 0.9999999253752454), ('C0176', 0.9999993525377122), ('C0129', 0.9999967175834013)], 'C0002': [('C0029', 0.9999834112176652), ('C0088', 0.9999517777697641), ('C0111', 0.9999446917530812)], 'C0003': [('C0178', 0.9999997097021179), ('C0144', 0.999997240659979), ('C0005', 0.9999704644465711)], 'C0004': [('C0165', 0.9999999953893446), ('C0021', 0.9999998713878631), ('C0101', 0.9999992242462938)], 'C0005': [('C0052', 0.9999914754140282), ('C0144', 0.9999857603611165), ('C0112', 0.9999795260275353)], 'C0006': [('C0117', 0.9999996001190012), ('C0074', 0.9999995122698279), ('C0171', 0.9999974202976782)], 'C0007': [('C0120', 0.9999886525676747), ('C0158', 0.9999823985882315), ('C0037', 0.9999741875675856)], 'C0008': [('C0103', 0.9999859116777267), ('C0030', 0.9999753887369268), ('C0184', 0.9999375253313431)], 'C0009': [('C0119', 0.9998668282478016), ('C0077', 0.9998668282478016), ('C0157', 0.9983679844535663)], 'C0010': [('C0029', 0.9999787444336963), ('C0111', 0.9999576092181314), ('C0002', 0.9999246008556729)], 'C0011': [('C0011', 1.0), ('C0041', 0.9999995950650381), ('C0153', 0.9999995839452155)], 'C0012': [('C0001', 0.9999999253752454), ('C0176', 0.9999997175341921), ('C0129', 0.99999763280559)], 'C0013': [('C0143', 0.9999999312039607), ('C0022', 0.9999984432452824), ('C0183', 0.9999963669681525)], 'C0014': [('C0151', 0.9899494936611667), ('C0033', 0.9899494936611665), ('C0097', 0.9429903335828895)], 'C0015': [('C0174', 0.9999992600099379), ('C0131', 0.9999991823716047), ('C0156', 0.9999991823716046)], 'C0016': [('C0183', 0.9999996717884877), ('C0053', 0.9999970518623125), ('C0143', 0.9999963977488867)], 'C0017': [('C0177', 1.0000000000000002), ('C0194', 0.9999997064049091), ('C0175', 0.9999997064049091)], 'C0018': [('C0187', 0.9999995662048261), ('C0085', 0.9999985131078765), ('C0171', 0.9999982990991545)], 'C0019': [('C0043', 0.9999864369078858), ('C0147', 0.999983020520379), ('C0047', 0.9997152488143042)], 'C0020': [('C0080', 0.9999218841540815), ('C0150', 0.9999218841540815), ('C0058', 0.9989990544119017)]}\n"
          ]
        }
      ]
    },
    {
      "cell_type": "markdown",
      "source": [
        "#Recommend Similar Customers"
      ],
      "metadata": {
        "id": "3NfOZgqCbRt-"
      }
    },
    {
      "cell_type": "code",
      "source": [
        "import pandas as pd\n",
        "\n",
        "lookalike_df = pd.DataFrame({\n",
        "    'cust_id': recommendations.keys(),\n",
        "    'lookalike_list': [str(v) for v in recommendations.values()]\n",
        "})\n",
        "\n",
        "lookalike_df.to_csv('Shravani_RS_Lookalike.csv', index=False)\n",
        "print(\"Lookalike recommendations saved!\")\n"
      ],
      "metadata": {
        "colab": {
          "base_uri": "https://localhost:8080/"
        },
        "id": "sJ7IXDdKFf8f",
        "outputId": "fbcad1dc-7b5f-4220-f057-068e4bbb9e89"
      },
      "execution_count": null,
      "outputs": [
        {
          "output_type": "stream",
          "name": "stdout",
          "text": [
            "Lookalike recommendations saved!\n"
          ]
        }
      ]
    },
    {
      "cell_type": "code",
      "source": [
        "import pandas as pd\n",
        "\n",
        "lookalike_df = pd.read_csv('Shravani_RS_Lookalike.csv')\n",
        "\n",
        "print(lookalike_df.head())\n"
      ],
      "metadata": {
        "colab": {
          "base_uri": "https://localhost:8080/"
        },
        "id": "cBaHAUFRGPyC",
        "outputId": "eccb2c98-3f6b-4a63-eaae-50aa11c7ac41"
      },
      "execution_count": null,
      "outputs": [
        {
          "output_type": "stream",
          "name": "stdout",
          "text": [
            "  cust_id                                     lookalike_list\n",
            "0   C0001  [('C0012', 0.9999999253752454), ('C0176', 0.99...\n",
            "1   C0002  [('C0029', 0.9999834112176652), ('C0088', 0.99...\n",
            "2   C0003  [('C0178', 0.9999997097021179), ('C0144', 0.99...\n",
            "3   C0004  [('C0165', 0.9999999953893446), ('C0021', 0.99...\n",
            "4   C0005  [('C0052', 0.9999914754140282), ('C0144', 0.99...\n"
          ]
        }
      ]
    },
    {
      "cell_type": "code",
      "source": [],
      "metadata": {
        "id": "xiA68XnfGXgi"
      },
      "execution_count": null,
      "outputs": []
    }
  ]
}